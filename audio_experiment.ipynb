{
 "cells": [
  {
   "cell_type": "markdown",
   "metadata": {},
   "source": [
    "# Genre recognition: experiment"
   ]
  },
  {
   "cell_type": "markdown",
   "metadata": {},
   "source": [
    "Goal: observe the effect of $\\lambda_g$.\n",
    "\n",
    "Observations:"
   ]
  },
  {
   "cell_type": "markdown",
   "metadata": {},
   "source": [
    "## Hyper-parameters"
   ]
  },
  {
   "cell_type": "markdown",
   "metadata": {},
   "source": [
    "### Parameter under test"
   ]
  },
  {
   "cell_type": "code",
   "execution_count": null,
   "metadata": {
    "collapsed": true
   },
   "outputs": [],
   "source": [
    "Pname = 'lg'\n",
    "Pvalues = [1, 10, 100]\n",
    "\n",
    "# Regenerate the graph or the features at each iteration.\n",
    "regen_graph = False\n",
    "regen_features = True"
   ]
  },
  {
   "cell_type": "markdown",
   "metadata": {},
   "source": [
    "### Model parameters"
   ]
  },
  {
   "cell_type": "code",
   "execution_count": null,
   "metadata": {
    "collapsed": false
   },
   "outputs": [],
   "source": [
    "p = {}\n",
    "\n",
    "# Preprocessing.\n",
    "\n",
    "# Graph.\n",
    "p['K'] = 10 + 1  # 5 to 10 + 1 for self-reference\n",
    "p['dm'] = 'cosine'\n",
    "p['Csigma'] = 1\n",
    "p['diag'] = True\n",
    "p['laplacian'] = 'normalized'\n",
    "\n",
    "# Feature extraction.\n",
    "p['m'] = 512  # 64, 128, 512\n",
    "p['ld'] = 10\n",
    "p['le'] = None\n",
    "p['lg'] = 1\n",
    "\n",
    "# Classification.\n",
    "p['scale'] = None\n",
    "p['Nvectors'] = 6\n",
    "p['svm_type'] = 'C'\n",
    "p['kernel'] = 'linear'\n",
    "p['C'] = 1\n",
    "p['nu'] = 0.5"
   ]
  },
  {
   "cell_type": "markdown",
   "metadata": {},
   "source": [
    "### Numerical parameters"
   ]
  },
  {
   "cell_type": "code",
   "execution_count": null,
   "metadata": {
    "collapsed": false
   },
   "outputs": [],
   "source": [
    "# Dataset (10,100,644 | 5,100,149 | 2,10,644).\n",
    "p['Ngenres'] = 10\n",
    "p['Nclips'] = 100\n",
    "p['Nframes'] = 644\n",
    "\n",
    "# Graph.\n",
    "p['tol'] = 1e-5\n",
    "\n",
    "# Feature extraction.\n",
    "p['rtol'] = 1e-5  # 1e-3, 1e-5, 1e-7\n",
    "p['N_outer'] = 10  # 10, 15, 20\n",
    "\n",
    "# Classification.\n",
    "p['Ncv'] = 10"
   ]
  },
  {
   "cell_type": "markdown",
   "metadata": {},
   "source": [
    "## Processing"
   ]
  },
  {
   "cell_type": "code",
   "execution_count": null,
   "metadata": {
    "collapsed": false
   },
   "outputs": [],
   "source": [
    "import numpy as np\n",
    "import time\n",
    "\n",
    "texperiment = time.time()\n",
    "\n",
    "# Fair comparison when tuning parameters.\n",
    "np.random.seed(1)\n",
    "\n",
    "def separator():\n",
    "    print('\\n' + 50 * '-' + '\\n')\n",
    "\n",
    "#%run gtzan.ipynb\n",
    "#%run audio_preprocessing.ipynb\n",
    "if not regen_graph:\n",
    "    %run audio_graph.ipynb\n",
    "    separator()\n",
    "if not regen_features:\n",
    "    %run audio_features.ipynb\n",
    "    separator()\n",
    "\n",
    "# Hyper-parameter under test.\n",
    "for p[Pname] in Pvalues:\n",
    "\n",
    "    if regen_graph:\n",
    "        %run audio_graph.ipynb\n",
    "        separator()\n",
    "    if regen_features:\n",
    "        %run audio_features.ipynb\n",
    "        separator()\n",
    "    %run audio_classification.ipynb\n",
    "    separator()\n",
    "\n",
    "print('Experiment time: {:.0f} seconds'.format(time.time() - texperiment))"
   ]
  }
 ],
 "metadata": {
  "kernelspec": {
   "display_name": "Python 2",
   "language": "python",
   "name": "python2"
  },
  "language_info": {
   "codemirror_mode": {
    "name": "ipython",
    "version": 2
   },
   "file_extension": ".py",
   "mimetype": "text/x-python",
   "name": "python",
   "nbconvert_exporter": "python",
   "pygments_lexer": "ipython2",
   "version": "2.7.3"
  }
 },
 "nbformat": 4,
 "nbformat_minor": 0
}
