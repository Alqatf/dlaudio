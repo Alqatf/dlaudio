{
 "cells": [
  {
   "cell_type": "markdown",
   "metadata": {},
   "source": [
    "# Genre recognition: experiment"
   ]
  },
  {
   "cell_type": "markdown",
   "metadata": {},
   "source": [
    "Goal: observe the effect of $\\lambda_g$.\n",
    "\n",
    "Observations:"
   ]
  },
  {
   "cell_type": "markdown",
   "metadata": {},
   "source": [
    "## Hyper-parameters"
   ]
  },
  {
   "cell_type": "markdown",
   "metadata": {},
   "source": [
    "### Parameter under test"
   ]
  },
  {
   "cell_type": "code",
   "execution_count": null,
   "metadata": {
    "collapsed": true
   },
   "outputs": [],
   "source": [
    "Pname = 'lg'\n",
    "Pvalues = [1, 10, 100]\n",
    "\n",
    "# Regenerate the graph or the features at each iteration.\n",
    "regen_graph = False\n",
    "regen_features = True"
   ]
  },
  {
   "cell_type": "markdown",
   "metadata": {},
   "source": [
    "### Model parameters"
   ]
  },
  {
   "cell_type": "code",
   "execution_count": null,
   "metadata": {
    "collapsed": false
   },
   "outputs": [],
   "source": [
    "p = {}\n",
    "\n",
    "# Preprocessing.\n",
    "\n",
    "# Graph.\n",
    "p['K'] = 10 + 1  # 5 to 10 + 1 for self-reference\n",
    "p['dm'] = 'cosine'\n",
    "p['Csigma'] = 1\n",
    "p['diag'] = True\n",
    "p['laplacian'] = 'normalized'\n",
    "\n",
    "# Feature extraction.\n",
    "p['m'] = 512  # 64, 128, 512\n",
    "p['ld'] = 10\n",
    "p['le'] = None\n",
    "p['lg'] = 1\n",
    "\n",
    "# Classification.\n",
    "p['scale'] = None\n",
    "p['Nvectors'] = 6\n",
    "p['svm_type'] = 'C'\n",
    "p['kernel'] = 'linear'\n",
    "p['C'] = 1\n",
    "p['nu'] = 0.5"
   ]
  },
  {
   "cell_type": "markdown",
   "metadata": {},
   "source": [
    "### Numerical parameters"
   ]
  },
  {
   "cell_type": "code",
   "execution_count": null,
   "metadata": {
    "collapsed": false
   },
   "outputs": [],
   "source": [
    "# Dataset (10,100,644 | 5,100,149 | 2,10,644).\n",
    "p['Ngenres'] = 10\n",
    "p['Nclips'] = 100\n",
    "p['Nframes'] = 644\n",
    "\n",
    "# Graph.\n",
    "p['tol'] = 1e-5\n",
    "\n",
    "# Feature extraction.\n",
    "p['rtol'] = 1e-5  # 1e-3, 1e-5, 1e-7\n",
    "p['N_inner'] = 500\n",
    "p['N_outer'] = 50\n",
    "\n",
    "# Classification.\n",
    "p['Nfolds'] = 10\n",
    "p['Ncv'] = 20\n",
    "p['dataset_classification'] = 'Z'"
   ]
  },
  {
   "cell_type": "markdown",
   "metadata": {},
   "source": [
    "## Processing"
   ]
  },
  {
   "cell_type": "code",
   "execution_count": null,
   "metadata": {
    "collapsed": false
   },
   "outputs": [],
   "source": [
    "import numpy as np\n",
    "import time\n",
    "\n",
    "texperiment = time.time()\n",
    "\n",
    "# Result dictionary.\n",
    "res = ['accuracy', 'accuracy_std']\n",
    "res += ['sparsity', 'atoms']\n",
    "res += ['objective_g', 'objective_h', 'objective_i', 'objective_j']\n",
    "res += ['time_features', 'iterations_inner', 'iterations_outer']\n",
    "res = dict.fromkeys(res)\n",
    "for key in res.keys():\n",
    "    res[key] = []\n",
    "\n",
    "def separator(name, parameter=False):\n",
    "    if parameter:\n",
    "        name += ', {} = {}'.format(Pname, p[Pname])\n",
    "    dashes = 20 * '-'\n",
    "    print('\\n {} {} {} \\n'.format(dashes, name, dashes))\n",
    "    # Fair comparison when tuning parameters.\n",
    "    # Randomnesses: dictionary initialization, training and testing sets.\n",
    "    np.random.seed(1)"
   ]
  },
  {
   "cell_type": "code",
   "execution_count": null,
   "metadata": {
    "collapsed": false
   },
   "outputs": [],
   "source": [
    "#%run gtzan.ipynb\n",
    "#%run audio_preprocessing.ipynb\n",
    "if not regen_graph:\n",
    "    separator('Graph')\n",
    "    %run audio_graph.ipynb\n",
    "if not regen_features:\n",
    "    separator('Features')\n",
    "    %run audio_features.ipynb\n",
    "\n",
    "# Hyper-parameter under test.\n",
    "for n_exp, p[Pname] in enumerate(Pvalues):\n",
    "\n",
    "    if regen_graph:\n",
    "        separator('Graph', True)\n",
    "        %run audio_graph.ipynb\n",
    "    if regen_features:\n",
    "        separator('Features', True)\n",
    "        %run audio_features.ipynb\n",
    "    separator('Classification', True)\n",
    "    %run audio_classification.ipynb\n",
    "    \n",
    "    # Collect results.\n",
    "    for key in res:\n",
    "        res[key].append(globals()[key])\n",
    "\n",
    "# Baseline, i.e. classification with spectrograms.\n",
    "p['dataset_classification'] = 'X'\n",
    "if not regen_graph and not regen_features:\n",
    "    # Classifier parameters are being tested.\n",
    "    for p[Pname] in Pvalues:\n",
    "        separator('Baseline', True)\n",
    "        %run audio_classification.ipynb\n",
    "else:\n",
    "    separator('Baseline')\n",
    "    %run audio_classification.ipynb\n",
    "    separator('Baseline')"
   ]
  },
  {
   "cell_type": "markdown",
   "metadata": {},
   "source": [
    "## Results"
   ]
  },
  {
   "cell_type": "code",
   "execution_count": null,
   "metadata": {
    "collapsed": false
   },
   "outputs": [],
   "source": [
    "print('{}: {}'.format(Pname, Pvalues))\n",
    "for key, value in res.items():\n",
    "    if key is not 'atoms':\n",
    "        print('{}: {}'.format(key, value))\n",
    "\n",
    "def plot(*args, **kwargs):\n",
    "    plt.figure(figsize=(8,5))\n",
    "    x = range(len(Pvalues))\n",
    "    log = 'log' in kwargs and kwargs['log'] is True\n",
    "    pltfunc = plt.semilogy if log else plt.plot\n",
    "    for var in args:\n",
    "        pltfunc(x, res[var], '.-', label=var)\n",
    "    plt.xlim(0, len(Pvalues)-1)\n",
    "    plt.title('{} vs {}'.format(', '.join(args), Pname))\n",
    "    plt.xlabel(Pname)\n",
    "    plt.ylabel(' ,'.join(args))\n",
    "    plt.xticks(x, Pvalues)\n",
    "    plt.grid(True); plt.legend(loc='best'); plt.show()\n",
    "\n",
    "# Classification results.\n",
    "plot('accuracy')\n",
    "\n",
    "# Features extraction results.\n",
    "if regen_features:\n",
    "    plot('objective_g', 'objective_i', 'objective_j', log=True)\n",
    "    plot('sparsity')\n",
    "    plot('time_features')\n",
    "    plot('iterations_inner')\n",
    "    plot('iterations_outer')\n",
    "\n",
    "    for i, fig in enumerate(res['atoms']):\n",
    "        print('Dictionary atoms for {} = {}'.format(Pname, Pvalues[i]))\n",
    "        fig.show()\n",
    "\n",
    "print('Experiment time: {:.0f} seconds'.format(time.time() - texperiment))"
   ]
  }
 ],
 "metadata": {
  "kernelspec": {
   "display_name": "Python 2",
   "language": "python",
   "name": "python2"
  },
  "language_info": {
   "codemirror_mode": {
    "name": "ipython",
    "version": 2
   },
   "file_extension": ".py",
   "mimetype": "text/x-python",
   "name": "python",
   "nbconvert_exporter": "python",
   "pygments_lexer": "ipython2",
   "version": "2.7.3"
  }
 },
 "nbformat": 4,
 "nbformat_minor": 0
}
