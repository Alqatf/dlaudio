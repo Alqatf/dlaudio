{
 "cells": [
  {
   "cell_type": "markdown",
   "metadata": {},
   "source": [
    "# Energy auto-encoder: audio pre-processing"
   ]
  },
  {
   "cell_type": "markdown",
   "metadata": {},
   "source": [
    "Slice clips in frames, apply a constant-Q transform (CQT) then some local contrast normalization (LCN). Processed audio and labels are stored in HDF5 datasets."
   ]
  },
  {
   "cell_type": "markdown",
   "metadata": {},
   "source": [
    "## Setup"
   ]
  },
  {
   "cell_type": "code",
   "execution_count": null,
   "metadata": {
    "collapsed": false
   },
   "outputs": [],
   "source": [
    "import os, time\n",
    "import numpy as np\n",
    "import librosa\n",
    "import h5py\n",
    "\n",
    "print('Software versions:')\n",
    "for pkg in [np, librosa]:\n",
    "    print('  {}: {}'.format(pkg.__name__, pkg.__version__))\n",
    "\n",
    "# Much faster computation of the CQT if available.\n",
    "# Provided by scikits.samplerate through libsamplerate (SRC).\n",
    "print('\\nlibrosa HAS_SAMPLERATE: {}'.format(librosa.core._HAS_SAMPLERATE))"
   ]
  },
  {
   "cell_type": "markdown",
   "metadata": {},
   "source": [
    "## Input data"
   ]
  },
  {
   "cell_type": "markdown",
   "metadata": {},
   "source": [
    "Audio data from the GTZAN dataset has been previously stored in the HDF5 format which allows us to read and write data without the need to load the whole data set into memory via memory mapping ."
   ]
  },
  {
   "cell_type": "code",
   "execution_count": null,
   "metadata": {
    "collapsed": false
   },
   "outputs": [],
   "source": [
    "filename = os.path.join('data', 'gtzan.hdf5')\n",
    "gtzan = h5py.File(filename, 'r')\n",
    "\n",
    "# Display HDF5 attributes.\n",
    "print('Attributes:')\n",
    "for attr in gtzan.attrs:\n",
    "    print('  {} = {}'.format(attr, gtzan.attrs[attr]))\n",
    "\n",
    "# List the stored datasets.\n",
    "genres = [str(dset) for dset in gtzan]\n",
    "print('\\nDatasets: {}'.format(', '.join(genres)))"
   ]
  },
  {
   "cell_type": "markdown",
   "metadata": {},
   "source": [
    "## Parameters"
   ]
  },
  {
   "cell_type": "markdown",
   "metadata": {},
   "source": [
    "### Frames"
   ]
  },
  {
   "cell_type": "markdown",
   "metadata": {},
   "source": [
    "* Each clip is divided into short frames of $n_a = 1024$ samples.\n",
    "* There is a 50% overlap between consecutive frames which adds redundancy in the data.\n"
   ]
  },
  {
   "cell_type": "code",
   "execution_count": null,
   "metadata": {
    "collapsed": false
   },
   "outputs": [],
   "source": [
    "na = 1024\n",
    "# Aligned.\n",
    "N1 = int(np.floor(float(gtzan.attrs['Nsamples']) / na))\n",
    "# Overlap (redundant).\n",
    "N2 = int(np.floor(float(gtzan.attrs['Nsamples']) / na - 0.5))\n",
    "Nframes = N1 + N2\n",
    "N = gtzan.attrs['Ngenres'] * gtzan.attrs['Nclips'] * Nframes\n",
    "print('N = {:,} (N1={}, N2={}) frames of na = {} samples'.format(\n",
    "        N, N1, N2, na))"
   ]
  },
  {
   "cell_type": "markdown",
   "metadata": {},
   "source": [
    "### Constant-Q transform (CQT)"
   ]
  },
  {
   "cell_type": "markdown",
   "metadata": {},
   "source": [
    "We use the CQT as a dimensionality reduction (from $n_a=1024$ to $n_s=96$) and a feature extraction tool:\n",
    "* Span $N_o = 4$ octaves from $C_2$ to $C_6$ where $C_4$ is the middle $C$ in the scientific pitch notation.\n",
    "* Western music uses 12TET (twelve-tone equal temperament): 7 notes and 12 semitones per octave. We use 24 bins per octave to achieve a quarter-tone resolution.\n",
    "* It gives us $n_s = 96$ filters, the dimensionality of the input data to the auto-encoder.\n",
    "\n",
    "Open questions:\n",
    "* Should we truncate the clip to a mutliple of $n_a$ ?\n",
    "* How to handle boundary conditions ? Discard ? Keep ?"
   ]
  },
  {
   "cell_type": "code",
   "execution_count": null,
   "metadata": {
    "collapsed": false
   },
   "outputs": [],
   "source": [
    "# CQT filters.\n",
    "ns = 96\n",
    "No = 4\n",
    "print('ns = {} filters spanning No = {} octaves'.format(ns, No))\n",
    "print('  --> resolution of {} bins per octave'.format(ns/No))\n",
    "\n",
    "# This MIDI implementation assigns middle C (note 60) to C5 not C4 !\n",
    "# It may also be C3, there is no standardisation.\n",
    "# It is not consistent with the scientific pitch notation.\n",
    "assert librosa.note_to_midi('C5') == 60\n",
    "# Tuning standard A4 = 440 Hz (A440) becomes A5 = 440Hz.\n",
    "assert librosa.midi_to_hz(librosa.note_to_midi('A5')) == 440\n",
    "assert librosa.midi_to_hz(69) == 440\n",
    "\n",
    "# We should thus use C3 and C7 instead of C2 and C6...\n",
    "nmin, nmax = 'C3', 'C7'\n",
    "fmin = librosa.midi_to_hz(librosa.note_to_midi(nmin))\n",
    "fmax = librosa.midi_to_hz(librosa.note_to_midi(nmax))\n",
    "assert fmax / fmin == 2**No  # By definition of an octave.\n",
    "print('fmin = {:.2f} Hz ({}), fmax = {:.2f} Hz ({})'.format(\n",
    "        fmin[0], nmin, fmax[0], nmax))\n",
    "\n",
    "# librosa CQT parameters.\n",
    "params = {'sr':gtzan.attrs['sr'], 'hop_length':na, 'fmin':fmin,\n",
    "          'n_bins':ns, 'bins_per_octave':ns/No}"
   ]
  },
  {
   "cell_type": "markdown",
   "metadata": {},
   "source": [
    "## Output data"
   ]
  },
  {
   "cell_type": "markdown",
   "metadata": {},
   "source": [
    "Five HDF5 datasets with $N$ entries (one per frame):\n",
    "1. *labels*: a number representing the musical genre (the *genres* attribute can be indexed with this number to retrieve the name of the genre)\n",
    "2. *clips*: the clip number in the considered genre\n",
    "3. *Xa*: raw audio of the frame, length $n_a$\n",
    "4. *Xs*: CQT spectrogram, length $n_s$\n",
    "5. *Xn*: LCN normalized spectrogram, length $n_s$"
   ]
  },
  {
   "cell_type": "code",
   "execution_count": null,
   "metadata": {
    "collapsed": false
   },
   "outputs": [],
   "source": [
    "filename = os.path.join('data', 'audio.hdf5')\n",
    "\n",
    "# Remove existing HDF5 file without warning if non-existent.\n",
    "try:\n",
    "    os.remove(filename)\n",
    "except OSError:\n",
    "    pass\n",
    "\n",
    "# Create HDF5 file and datasets.\n",
    "audio = h5py.File(filename, 'w')\n",
    "\n",
    "# Metadata.\n",
    "audio.attrs['Ngenres'] = gtzan.attrs['Ngenres']\n",
    "audio.attrs['Nclips'] = gtzan.attrs['Nclips']\n",
    "audio.attrs['Nframes'] = Nframes\n",
    "\n",
    "# Labels.\n",
    "audio.attrs['labels'] = genres\n",
    "labels = audio.create_dataset('labels', (N,), dtype='uint8')\n",
    "clips = audio.create_dataset('clips', (N,), dtype='uint8')\n",
    "\n",
    "# Data.\n",
    "Xa = audio.create_dataset('Xa', (na, N), dtype='float32')\n",
    "Xs = audio.create_dataset('Xs', (ns, N), dtype='float32')\n",
    "#Xn = f.create_dataset('Xn', (ns, N), dtype='float32')\n",
    "\n",
    "print('Xa in {}'.format(Xa.shape))\n",
    "print('Xs in {}'.format(Xs.shape))\n",
    "#print('Xn in {}'.format(Xn.shape))\n",
    "\n",
    "# Display HDF5 attributes.\n",
    "print('Attributes:')\n",
    "for attr in audio.attrs:\n",
    "    print('  {} = {}'.format(attr, audio.attrs[attr]))"
   ]
  },
  {
   "cell_type": "markdown",
   "metadata": {},
   "source": [
    "## Load and process audio"
   ]
  },
  {
   "cell_type": "markdown",
   "metadata": {},
   "source": [
    "Fill $X_s \\in R^{n_s \\times N}$ with the CQT spectrogram of all $N$ frames. Store the raw audio in $X_a \\in R^{n_a \\times N}$."
   ]
  },
  {
   "cell_type": "markdown",
   "metadata": {},
   "source": [
    "The processing function load audio data, compute the CQT and store the result in HDF5 datasets along with raw audio and labels."
   ]
  },
  {
   "cell_type": "code",
   "execution_count": null,
   "metadata": {
    "collapsed": false
   },
   "outputs": [],
   "source": [
    "def process(genre, clip):\n",
    "    \"\"\"Usage: process(1, 2)\"\"\"\n",
    "\n",
    "    # Load audio.\n",
    "    y = gtzan[genres[genre]][:,clip]\n",
    "\n",
    "    # Frame number in [0, N-1].\n",
    "    k = (genre*gtzan.attrs['Nclips'] + clip) * Nframes\n",
    "\n",
    "    # Store labels.\n",
    "    labels[k:k+Nframes] = genre\n",
    "    clips[k:k+Nframes] = clip\n",
    "\n",
    "    # Store raw audio.\n",
    "    Xa[:,k:k+N1]         = np.reshape(y[    :na*N1     ], (na, N1), order='F')\n",
    "    Xa[:,k+N1:k+Nframes] = np.reshape(y[na/2:na*N2+na/2], (na, N2), order='F')\n",
    "\n",
    "    # Ensure that the signal is correctly reshaped.\n",
    "    i = int(np.floor(N1 * np.random.uniform()))\n",
    "    assert np.alltrue(Xa[:,k+i] == y[i*na:i*na+na])\n",
    "\n",
    "    # Store spectrogram. Drop the last one which consists mostly\n",
    "    # of padded data (and keep the same size as Xa).\n",
    "    Xs[:,k:k+N1]         = librosa.cqt(y, **params)[:,:-1]\n",
    "    Xs[:,k+N1:k+Nframes] = librosa.cqt(y[na/2:], **params)[:,:-1]"
   ]
  },
  {
   "cell_type": "markdown",
   "metadata": {},
   "source": [
    "Process the entire GTZAN dataset:"
   ]
  },
  {
   "cell_type": "code",
   "execution_count": null,
   "metadata": {
    "collapsed": false,
    "scrolled": true
   },
   "outputs": [],
   "source": [
    "tstart = time.time()\n",
    "for genre in range(gtzan.attrs['Ngenres']):\n",
    "    for clip in range(gtzan.attrs['Nclips']):\n",
    "        process(genre, clip)\n",
    "print('Elapsed time: {:.0f} seconds'.format(time.time() - tstart))"
   ]
  },
  {
   "cell_type": "markdown",
   "metadata": {
    "collapsed": true
   },
   "source": [
    "## Close HDF5 data stores"
   ]
  },
  {
   "cell_type": "code",
   "execution_count": null,
   "metadata": {
    "collapsed": false
   },
   "outputs": [],
   "source": [
    "gtzan.close()\n",
    "audio.close()"
   ]
  }
 ],
 "metadata": {
  "kernelspec": {
   "display_name": "Python 2",
   "language": "python",
   "name": "python2"
  },
  "language_info": {
   "codemirror_mode": {
    "name": "ipython",
    "version": 2
   },
   "file_extension": ".py",
   "mimetype": "text/x-python",
   "name": "python",
   "nbconvert_exporter": "python",
   "pygments_lexer": "ipython2",
   "version": "2.7.3"
  }
 },
 "nbformat": 4,
 "nbformat_minor": 0
}
